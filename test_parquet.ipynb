{
 "metadata": {
  "language_info": {
   "codemirror_mode": {
    "name": "ipython",
    "version": 3
   },
   "file_extension": ".py",
   "mimetype": "text/x-python",
   "name": "python",
   "nbconvert_exporter": "python",
   "pygments_lexer": "ipython3",
   "version": "3.9.4"
  },
  "orig_nbformat": 4,
  "kernelspec": {
   "name": "python3",
   "display_name": "Python 3.9.4 64-bit"
  },
  "interpreter": {
   "hash": "900f0694acc064964699e78a6edfb089db62b200ad88e30afa87c26005b6686c"
  }
 },
 "nbformat": 4,
 "nbformat_minor": 2,
 "cells": [
  {
   "cell_type": "code",
   "execution_count": 2,
   "metadata": {},
   "outputs": [],
   "source": [
    "import configparser\n",
    "from datetime import datetime, timedelta\n",
    "import os\n",
    "import sys\n",
    "from pyspark.sql import SparkSession\n",
    "from pyspark.sql.functions import udf, col\n",
    "from pyspark.sql.functions import year, month, dayofmonth, hour, weekofyear, date_format, dayofweek\n",
    "from pyspark.sql.functions import monotonically_increasing_id\n",
    "from pyspark.sql.types import DateType,StringType\n",
    "from pyspark.sql import functions as F\n",
    "from pyspark.sql.functions import avg\n",
    "import pandas as pd"
   ]
  },
  {
   "cell_type": "code",
   "execution_count": 3,
   "metadata": {},
   "outputs": [],
   "source": [
    "test_spark =  SparkSession.builder.getOrCreate()"
   ]
  },
  {
   "cell_type": "code",
   "execution_count": 4,
   "metadata": {},
   "outputs": [],
   "source": [
    "test_df = test_spark.read.parquet('part-00020-d836c836-ce9b-4d71-86c9-8f865f4fd31d.c000.snappy.parquet')"
   ]
  },
  {
   "cell_type": "code",
   "execution_count": 5,
   "metadata": {},
   "outputs": [
    {
     "output_type": "stream",
     "name": "stdout",
     "text": [
      "+--------------+----------+------------------+--------------------+-------+--------+---------+------------+------------+\n|temperature_id|      date|          avg_temp|avg_temp_uncertainty|   city|latitude|longitude|airport_code|     city_id|\n+--------------+----------+------------------+--------------------+-------+--------+---------+------------+------------+\n|  171798691840|1820-01-01|2.1010000000000004|               3.217|Abilene|  32.95N|  100.53W|        KK78|120259084288|\n|  171798691841|1820-01-01|2.1010000000000004|               3.217|Abilene|  32.95N|  100.53W|        TX02|120259084288|\n|  171798691842|1820-01-01|2.1010000000000004|               3.217|Abilene|  32.95N|  100.53W|        TX00|120259084288|\n|  171798691843|1820-01-01|2.1010000000000004|               3.217|Abilene|  32.95N|  100.53W|        TA38|120259084288|\n|  171798691844|1820-01-01|2.1010000000000004|               3.217|Abilene|  32.95N|  100.53W|        KDYS|120259084288|\n|  171798691845|1820-01-01|2.1010000000000004|               3.217|Abilene|  32.95N|  100.53W|        KABI|120259084288|\n|  171798691846|1820-01-01|2.1010000000000004|               3.217|Abilene|  32.95N|  100.53W|        82TS|120259084288|\n|  171798691847|1820-01-01|2.1010000000000004|               3.217|Abilene|  32.95N|  100.53W|        6TE2|120259084288|\n|  171798691848|1820-01-01|2.1010000000000004|               3.217|Abilene|  32.95N|  100.53W|        4TX1|120259084288|\n|  171798691849|1820-01-01|2.1010000000000004|               3.217|Abilene|  32.95N|  100.53W|        35TX|120259084288|\n+--------------+----------+------------------+--------------------+-------+--------+---------+------------+------------+\n\n"
     ]
    }
   ],
   "source": [
    "test_df.show()"
   ]
  },
  {
   "cell_type": "code",
   "execution_count": null,
   "metadata": {},
   "outputs": [],
   "source": []
  }
 ]
}
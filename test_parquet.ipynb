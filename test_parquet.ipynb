{
 "metadata": {
  "language_info": {
   "codemirror_mode": {
    "name": "ipython",
    "version": 3
   },
   "file_extension": ".py",
   "mimetype": "text/x-python",
   "name": "python",
   "nbconvert_exporter": "python",
   "pygments_lexer": "ipython3",
   "version": "3.9.4"
  },
  "orig_nbformat": 4,
  "kernelspec": {
   "name": "python3",
   "display_name": "Python 3.9.4 64-bit"
  },
  "interpreter": {
   "hash": "900f0694acc064964699e78a6edfb089db62b200ad88e30afa87c26005b6686c"
  }
 },
 "nbformat": 4,
 "nbformat_minor": 2,
 "cells": [
  {
   "cell_type": "code",
   "execution_count": 2,
   "metadata": {},
   "outputs": [],
   "source": [
    "import configparser\n",
    "from datetime import datetime, timedelta\n",
    "import os\n",
    "import sys\n",
    "from pyspark.sql import SparkSession\n",
    "from pyspark.sql.functions import udf, col\n",
    "from pyspark.sql.functions import year, month, dayofmonth, hour, weekofyear, date_format, dayofweek\n",
    "from pyspark.sql.functions import monotonically_increasing_id\n",
    "from pyspark.sql.types import DateType,StringType\n",
    "from pyspark.sql import functions as F\n",
    "from pyspark.sql.functions import avg\n",
    "import pandas as pd"
   ]
  },
  {
   "cell_type": "code",
   "execution_count": 3,
   "metadata": {},
   "outputs": [],
   "source": [
    "test_spark =  SparkSession.builder.getOrCreate()"
   ]
  },
  {
   "source": [
    "## Load an example file from Jan 2012"
   ],
   "cell_type": "markdown",
   "metadata": {}
  },
  {
   "cell_type": "code",
   "execution_count": 4,
   "metadata": {},
   "outputs": [],
   "source": [
    "temperatures_check_df = test_spark.read.parquet('parquet_file/temperatures/year=2010/month=2/part-00000-6a77b294-e335-47b9-a849-61dbbc798faf.c000.snappy.parquet')"
   ]
  },
  {
   "cell_type": "code",
   "execution_count": 5,
   "metadata": {},
   "outputs": [
    {
     "output_type": "stream",
     "name": "stdout",
     "text": [
      "+--------------+----------+--------+--------------------+-----------+--------+---------+------------+------------+\n|temperature_id|      date|avg_temp|avg_temp_uncertainty|       city|latitude|longitude|airport_code|     city_id|\n+--------------+----------+--------+--------------------+-----------+--------+---------+------------+------------+\n|        369317|2010-02-01|   9.025|                0.26|Baton Rouge|  29.74N|   90.46W|     US-0321|154618822656|\n|        369318|2010-02-01|   9.025|                0.26|Baton Rouge|  29.74N|   90.46W|        LA99|154618822656|\n|        369319|2010-02-01|   9.025|                0.26|Baton Rouge|  29.74N|   90.46W|        LA69|154618822656|\n|        369320|2010-02-01|   9.025|                0.26|Baton Rouge|  29.74N|   90.46W|        LA28|154618822656|\n|        369321|2010-02-01|   9.025|                0.26|Baton Rouge|  29.74N|   90.46W|        LA05|154618822656|\n|        369322|2010-02-01|   9.025|                0.26|Baton Rouge|  29.74N|   90.46W|        LA00|154618822656|\n|        369323|2010-02-01|   9.025|                0.26|Baton Rouge|  29.74N|   90.46W|        KBTR|154618822656|\n|        369324|2010-02-01|   9.025|                0.26|Baton Rouge|  29.74N|   90.46W|        96LA|154618822656|\n|        369325|2010-02-01|   9.025|                0.26|Baton Rouge|  29.74N|   90.46W|        8LA2|154618822656|\n|        369326|2010-02-01|   9.025|                0.26|Baton Rouge|  29.74N|   90.46W|        67LA|154618822656|\n|        369327|2010-02-01|   9.025|                0.26|Baton Rouge|  29.74N|   90.46W|        54LA|154618822656|\n|        369328|2010-02-01|   9.025|                0.26|Baton Rouge|  29.74N|   90.46W|        49LA|154618822656|\n|        369329|2010-02-01|   9.025|                0.26|Baton Rouge|  29.74N|   90.46W|        3LA3|154618822656|\n|        369330|2010-02-01|   9.025|                0.26|Baton Rouge|  29.74N|   90.46W|        29LA|154618822656|\n|        369331|2010-02-01|   9.025|                0.26|Baton Rouge|  29.74N|   90.46W|        27LS|154618822656|\n|        369332|2010-02-01|   9.025|                0.26|Baton Rouge|  29.74N|   90.46W|        27LA|154618822656|\n|        369333|2010-02-01|   9.025|                0.26|Baton Rouge|  29.74N|   90.46W|        21LA|154618822656|\n|        369334|2010-02-01|   9.025|                0.26|Baton Rouge|  29.74N|   90.46W|        1LS1|154618822656|\n|        369335|2010-02-01|   9.025|                0.26|Baton Rouge|  29.74N|   90.46W|        19LA|154618822656|\n|        369336|2010-02-01|   9.025|                0.26|Baton Rouge|  29.74N|   90.46W|        14LS|154618822656|\n+--------------+----------+--------+--------------------+-----------+--------+---------+------------+------------+\nonly showing top 20 rows\n\n"
     ]
    }
   ],
   "source": [
    "temperatures_check_df.show()"
   ]
  },
  {
   "cell_type": "code",
   "execution_count": 6,
   "metadata": {},
   "outputs": [
    {
     "output_type": "execute_result",
     "data": {
      "text/plain": [
       "186"
      ]
     },
     "metadata": {},
     "execution_count": 6
    }
   ],
   "source": [
    "temperatures_check_df.count()"
   ]
  },
  {
   "cell_type": "code",
   "execution_count": 7,
   "metadata": {},
   "outputs": [],
   "source": [
    "cites_check_temp_df = temperatures_check_df.select(temperatures_check_df.city)"
   ]
  },
  {
   "cell_type": "code",
   "execution_count": 8,
   "metadata": {},
   "outputs": [],
   "source": [
    "cites_check_temp_df = cites_check_temp_df.dropDuplicates(subset=['city'])"
   ]
  },
  {
   "cell_type": "code",
   "execution_count": 9,
   "metadata": {},
   "outputs": [
    {
     "output_type": "stream",
     "name": "stdout",
     "text": [
      "+-----------+\n|       city|\n+-----------+\n| Toms River|\n|Baton Rouge|\n|       Reno|\n|    Jackson|\n|    Spokane|\n|Saint Louis|\n|Minneapolis|\n|     Denton|\n| Cincinnati|\n|   Syracuse|\n+-----------+\n\n"
     ]
    }
   ],
   "source": [
    "cites_check_temp_df.show()"
   ]
  },
  {
   "source": [
    "## The I have the average temperature of Minneapolis, i want to find the population of it"
   ],
   "cell_type": "markdown",
   "metadata": {}
  },
  {
   "cell_type": "code",
   "execution_count": 66,
   "metadata": {},
   "outputs": [
    {
     "output_type": "stream",
     "name": "stdout",
     "text": [
      "+------------+-----------+----------+----------+---------------+-----------------+----------------+------------+------------+-------------+----------+\n|     city_id|  city_name|state_name|median_age|male_population|female_population|total_population|num_veterans|foreign_born|avg_household|state_code|\n+------------+-----------+----------+----------+---------------+-----------------+----------------+------------+------------+-------------+----------+\n|180388626445|Minneapolis| Minnesota|      32.4|         206547|           204388|          410935|       15217|       70769|         2.26|        MN|\n+------------+-----------+----------+----------+---------------+-----------------+----------------+------------+------------+-------------+----------+\n\n"
     ]
    }
   ],
   "source": [
    "demographics_check_df = test_spark.read.parquet('parquet_file/demographics/part-00021-fb4f5337-e7d5-45d8-90f3-84b91e39f144-c000.snappy.parquet')\n",
    "demographics_check_df = demographics_check_df.filter(demographics_check_df.city_name == \"Minneapolis\")\n",
    "demographics_check_df.show()"
   ]
  },
  {
   "cell_type": "code",
   "execution_count": 71,
   "metadata": {},
   "outputs": [],
   "source": [
    "temperatures_check_df.createOrReplaceTempView(\"temperatures\")"
   ]
  },
  {
   "cell_type": "code",
   "execution_count": 72,
   "metadata": {},
   "outputs": [],
   "source": [
    "demographics_check_df.createOrReplaceTempView(\"demographics\")"
   ]
  },
  {
   "source": [
    "# HERE IS THE EXAMPLE QUERY FROM temperatures table and demographics table"
   ],
   "cell_type": "markdown",
   "metadata": {}
  },
  {
   "source": [
    "## Find the average temperature in month 2 year 2010 and its population of Minneapolis"
   ],
   "cell_type": "markdown",
   "metadata": {}
  },
  {
   "cell_type": "code",
   "execution_count": 83,
   "metadata": {},
   "outputs": [],
   "source": [
    "results_df =  test_spark.sql(\"SELECT distinct t.date, t.avg_temp, t.city, d.total_population, d.median_age FROM temperatures t JOIN demographics d on t.city_id = d.city_id WHERE t.city = 'Minneapolis'\")"
   ]
  },
  {
   "cell_type": "code",
   "execution_count": 84,
   "metadata": {},
   "outputs": [
    {
     "output_type": "stream",
     "name": "stdout",
     "text": [
      "+----------+--------+-----------+----------------+----------+\n|      date|avg_temp|       city|total_population|median_age|\n+----------+--------+-----------+----------------+----------+\n|2010-02-01|   -9.07|Minneapolis|          410935|      32.4|\n+----------+--------+-----------+----------------+----------+\n\n"
     ]
    }
   ],
   "source": [
    "results_df.show()"
   ]
  },
  {
   "source": [
    "# -9.07 average temperature but has a big number of total population\n",
    "# Some other interesting analysis would be low average temperature has low population or nice average temperature has high foreign-born people"
   ],
   "cell_type": "markdown",
   "metadata": {}
  },
  {
   "cell_type": "code",
   "execution_count": 86,
   "metadata": {},
   "outputs": [],
   "source": [
    "# HERE IS THE EXAMPLE QUERY FROM temperatures table and airport table"
   ]
  },
  {
   "cell_type": "code",
   "execution_count": 99,
   "metadata": {},
   "outputs": [],
   "source": [
    "airport_check_df = test_spark.read.parquet('parquet_file/airports/state_code=MN/part-00001-87354b39-9502-4412-9050-46d33463cd64.c000.snappy.parquet')"
   ]
  },
  {
   "cell_type": "code",
   "execution_count": 100,
   "metadata": {},
   "outputs": [
    {
     "output_type": "stream",
     "name": "stdout",
     "text": [
      "+------------+-------------+--------------------+-------------------+\n|airport_code|         type|                name|          city_name|\n+------------+-------------+--------------------+-------------------+\n|         SYN|small_airport|    Stanton Airfield|            Stanton|\n|     US-0052|small_airport|      Joyner Airport|         Monticello|\n|     US-0166|small_airport|     Shimpa Airstrip|             Euclid|\n|     US-0316|     heliport|Appleton Municipa...|           Appleton|\n|     US-0325|seaplane_base|Steam Boat Bay Se...|     East Gull Lake|\n|     US-0327|     heliport|Lakewood Health C...|           Baudette|\n|     US-0363|seaplane_base| Point Seaplane Base|              Orono|\n|     US-0395|small_airport|   West Wind Airport|         Littlefork|\n|     US-0438|     heliport|     Benson Heliport|             Benson|\n|     US-0475|     heliport|International Fal...|International Falls|\n|     US-0508|     heliport|Pipestone County ...|          Pipestone|\n|     US-0509|small_airport|       Pfau Airstrip|          Princeton|\n|     US-0522|seaplane_base|Wayzata Bay Landi...|            Wayzata|\n|     US-0525|     heliport|Windom Area Hospi...|             Windom|\n|     US-0531|       closed|     Sowieja Airport|         Farmington|\n|     US-0567|     heliport|     Madelia Helipad|            Madelia|\n|     US-0605|     heliport|Glencoe Regional ...|            Glencoe|\n|     US-0621|     heliport|Renville County R...|             Olivia|\n|     US-0632|     heliport|Centracare Health...|        Paynesville|\n|     US-0634|seaplane_base|Emma's Bay Seapla...|       Pequot Lakes|\n+------------+-------------+--------------------+-------------------+\nonly showing top 20 rows\n\n"
     ]
    }
   ],
   "source": [
    "airport_check_df.show()"
   ]
  },
  {
   "source": [
    "## Print if there are any heliport in Minneapolis, as well as its average temperature in month 2 year 2010 and its population"
   ],
   "cell_type": "markdown",
   "metadata": {}
  },
  {
   "cell_type": "code",
   "execution_count": 101,
   "metadata": {},
   "outputs": [],
   "source": [
    "airport_check_df.createOrReplaceTempView(\"airports\")"
   ]
  },
  {
   "source": [
    "results_df =  test_spark.sql(\"SELECT distinct t.date, t.avg_temp, t.city, d.total_population, d.median_age, a.name FROM temperatures t JOIN demographics d on t.city_id = d.city_id JOIN airports a ON t.airport_code = a.airport_code WHERE t.city = 'Minneapolis' AND a.type='heliport'\")"
   ],
   "cell_type": "code",
   "metadata": {},
   "execution_count": 103,
   "outputs": []
  },
  {
   "cell_type": "code",
   "execution_count": 104,
   "metadata": {},
   "outputs": [
    {
     "output_type": "stream",
     "name": "stdout",
     "text": [
      "+----------+--------+-----------+----------------+----------+--------------------+\n|      date|avg_temp|       city|total_population|median_age|                name|\n+----------+--------+-----------+----------------+----------+--------------------+\n|2010-02-01|   -9.07|Minneapolis|          410935|      32.4|Hennepin County M...|\n+----------+--------+-----------+----------------+----------+--------------------+\n\n"
     ]
    }
   ],
   "source": [
    "results_df.show()"
   ]
  },
  {
   "source": [
    "# So there is one heliport in the parquet file i read and i also have the average temperature and total population of the city"
   ],
   "cell_type": "markdown",
   "metadata": {}
  },
  {
   "source": [
    "# I use partition by year and month in temperatures tables for easy for search for the date\n",
    "# I use parition by state_code in airport tables for easy for search for the city in the state"
   ],
   "cell_type": "markdown",
   "metadata": {}
  },
  {
   "cell_type": "code",
   "execution_count": null,
   "metadata": {},
   "outputs": [],
   "source": []
  }
 ]
}